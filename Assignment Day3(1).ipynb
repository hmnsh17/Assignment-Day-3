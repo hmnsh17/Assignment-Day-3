{
 "cells": [
  {
   "cell_type": "code",
   "execution_count": 6,
   "metadata": {},
   "outputs": [
    {
     "name": "stdout",
     "output_type": "stream",
     "text": [
      "Land the Plane\n"
     ]
    }
   ],
   "source": [
    "altitude=1000\n",
    "if altitude<=1000:\n",
    "    print(\"Land the Plane\")\n",
    "elif altitude>1000 and altitude<5000:\n",
    "    print(\"Come Down to 1000 ft\")\n",
    "else:\n",
    "    print(\"Go Around and Try Later\")"
   ]
  },
  {
   "cell_type": "code",
   "execution_count": null,
   "metadata": {},
   "outputs": [],
   "source": []
  }
 ],
 "metadata": {
  "kernelspec": {
   "display_name": "Python 3",
   "language": "python",
   "name": "python3"
  },
  "language_info": {
   "codemirror_mode": {
    "name": "ipython",
    "version": 3
   },
   "file_extension": ".py",
   "mimetype": "text/x-python",
   "name": "python",
   "nbconvert_exporter": "python",
   "pygments_lexer": "ipython3",
   "version": "3.8.3"
  }
 },
 "nbformat": 4,
 "nbformat_minor": 4
}
